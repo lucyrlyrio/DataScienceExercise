{
 "cells": [
  {
   "cell_type": "markdown",
   "id": "350e103f-743e-414b-9f85-9a5a2b26d8b2",
   "metadata": {},
   "source": [
    "# Data Science Tools and Ecosystem"
   ]
  },
  {
   "cell_type": "markdown",
   "id": "4d420ddd-a8cf-46b5-8526-4eb552721372",
   "metadata": {},
   "source": [
    "In this notebook, Data Science Tools and Ecosystem are summarized."
   ]
  },
  {
   "cell_type": "markdown",
   "id": "74547a92-763b-4caa-b303-c1eb1abaefdf",
   "metadata": {},
   "source": [
    "**Objectives:**\n",
    "\n",
    "- List popular languages for Data Science\n",
    "- Introduce examples of arithmetic expressions in Python\n",
    "- Discuss Data Science Tools and Ecosystem\n",
    "- Show how to perform basic arithmetic operations\n",
    "- Explain the process of converting time units (minutes to hours)"
   ]
  },
  {
   "cell_type": "markdown",
   "id": "626824fe-b6c7-4673-92da-1b693b0e2bbd",
   "metadata": {},
   "source": [
    "Some of the popular languages that Data Scientists use are:\n",
    "\n",
    "1. Python\n",
    "2. R\n",
    "3. SQL\n",
    "4. Julia\n",
    "5. Scala"
   ]
  },
  {
   "cell_type": "markdown",
   "id": "4c306cc4-1eb1-41b7-a983-1a06bee2c340",
   "metadata": {},
   "source": [
    "Some of the commonly used libraries used by Data Scientists include:\n",
    "\n",
    "1. NumPy  \n",
    "2. Pandas  \n",
    "3. Matplotlib  \n",
    "4. Scikit-learn  \n",
    "5. TensorFlow  \n",
    "6. PyTorch  "
   ]
  },
  {
   "cell_type": "markdown",
   "id": "2cacda50-880e-48c3-bd17-10bfe169658e",
   "metadata": {},
   "source": [
    "| Data Science Tools |\n",
    "|--------------------|\n",
    "| Jupyter Notebook  |\n",
    "| RStudio           |\n",
    "| Google Colab      |"
   ]
  },
  {
   "cell_type": "markdown",
   "id": "4f1e0d9f-e2c4-4ebb-be62-a4cff614f306",
   "metadata": {},
   "source": [
    "### Below are a few examples of evaluating arithmetic expressions in Python:"
   ]
  },
  {
   "cell_type": "markdown",
   "id": "815689bf-0834-4edb-8d1e-651730fb1509",
   "metadata": {},
   "source": [
    "1. Addition: `6 + 5`  \n",
    "2. Subtraction: `23 - 4`  \n",
    "3. Multiplication: `2 * 6`  \n",
    "4. Division: `44 / 4`  \n",
    "5. Exponentiation: `2 ** 6`  \n",
    "6. Modulus (Remainder): `10 % 3`"
   ]
  },
  {
   "cell_type": "code",
   "execution_count": 12,
   "id": "dba95a25-a62e-40d1-b6f6-8eb76bdd96c1",
   "metadata": {},
   "outputs": [
    {
     "data": {
      "text/plain": [
       "529"
      ]
     },
     "execution_count": 12,
     "metadata": {},
     "output_type": "execute_result"
    }
   ],
   "source": [
    "# Esta é uma expressão aritmética simples para multiplicar e adicionar números inteiros\n",
    "result = (3 * 4) + 517\n",
    "result"
   ]
  },
  {
   "cell_type": "code",
   "execution_count": 14,
   "id": "d1674765-3fb6-4b40-b27f-3b08bfd4e8c3",
   "metadata": {},
   "outputs": [
    {
     "data": {
      "text/plain": [
       "3.3333333333333335"
      ]
     },
     "execution_count": 14,
     "metadata": {},
     "output_type": "execute_result"
    }
   ],
   "source": [
    "# Isso converterá 200 minutos em horas dividindo por 60\n",
    "minutes = 200\n",
    "hours = minutes / 60\n",
    "hours"
   ]
  },
  {
   "cell_type": "markdown",
   "id": "7f3faec6-051d-459a-8b61-7c6f8d429f08",
   "metadata": {},
   "source": [
    "## Author\n",
    "\n",
    "Lucyr"
   ]
  },
  {
   "cell_type": "code",
   "execution_count": null,
   "id": "20cdb199-3ea0-432a-b094-8a99fff907b4",
   "metadata": {},
   "outputs": [],
   "source": []
  }
 ],
 "metadata": {
  "kernelspec": {
   "display_name": "Python [conda env:base] *",
   "language": "python",
   "name": "conda-base-py"
  },
  "language_info": {
   "codemirror_mode": {
    "name": "ipython",
    "version": 3
   },
   "file_extension": ".py",
   "mimetype": "text/x-python",
   "name": "python",
   "nbconvert_exporter": "python",
   "pygments_lexer": "ipython3",
   "version": "3.12.7"
  }
 },
 "nbformat": 4,
 "nbformat_minor": 5
}
